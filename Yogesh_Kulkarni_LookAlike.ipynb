{
  "nbformat": 4,
  "nbformat_minor": 0,
  "metadata": {
    "colab": {
      "provenance": []
    },
    "kernelspec": {
      "name": "python3",
      "display_name": "Python 3"
    },
    "language_info": {
      "name": "python"
    }
  },
  "cells": [
    {
      "cell_type": "markdown",
      "source": [
        "# **Lookalike Model**"
      ],
      "metadata": {
        "id": "S6t5kaVr49Fv"
      }
    },
    {
      "cell_type": "markdown",
      "source": [
        "###**Step 1: Data Preparation**\n",
        "\n",
        "1)Loading the required datasets\n",
        "\n",
        "2)Merging the datasets to create a comprehensive dataframe that contains:\n",
        "\n",
        "Customer profile information (Region, etc.).\n",
        "\n",
        "Transaction details (TotalValue, Quantity, etc.).\n",
        "\n",
        "Product details (Category, Price, etc.)."
      ],
      "metadata": {
        "id": "2ZmLMavF5QgT"
      }
    },
    {
      "cell_type": "code",
      "source": [
        "import pandas as pd\n",
        "\n",
        "# Load datasets\n",
        "customers = pd.read_csv('Customers.csv')\n",
        "products = pd.read_csv('Products.csv')\n",
        "transactions = pd.read_csv('Transactions.csv')\n",
        "\n",
        "# Convert dates to datetime\n",
        "customers['SignupDate'] = pd.to_datetime(customers['SignupDate'])\n",
        "transactions['TransactionDate'] = pd.to_datetime(transactions['TransactionDate'])\n",
        "\n",
        "# Merge datasets\n",
        "merged = transactions.merge(customers, on='CustomerID').merge(products, on='ProductID')\n",
        "\n",
        "# Display merged dataset\n",
        "print(merged.head())"
      ],
      "metadata": {
        "colab": {
          "base_uri": "https://localhost:8080/"
        },
        "id": "JSHuONZ75jzf",
        "outputId": "1b0e5f9b-a4f2-4b86-f886-9d45848cd6db"
      },
      "execution_count": 2,
      "outputs": [
        {
          "output_type": "stream",
          "name": "stdout",
          "text": [
            "  TransactionID CustomerID ProductID     TransactionDate  Quantity  \\\n",
            "0        T00001      C0199      P067 2024-08-25 12:38:23         1   \n",
            "1        T00112      C0146      P067 2024-05-27 22:23:54         1   \n",
            "2        T00166      C0127      P067 2024-04-25 07:38:55         1   \n",
            "3        T00272      C0087      P067 2024-03-26 22:55:37         2   \n",
            "4        T00363      C0070      P067 2024-03-21 15:10:10         3   \n",
            "\n",
            "   TotalValue  Price_x     CustomerName         Region SignupDate  \\\n",
            "0      300.68   300.68   Andrea Jenkins         Europe 2022-12-03   \n",
            "1      300.68   300.68  Brittany Harvey           Asia 2024-09-04   \n",
            "2      300.68   300.68  Kathryn Stevens         Europe 2024-04-04   \n",
            "3      601.36   300.68  Travis Campbell  South America 2024-04-11   \n",
            "4      902.04   300.68    Timothy Perez         Europe 2022-03-15   \n",
            "\n",
            "                       ProductName     Category  Price_y  \n",
            "0  ComfortLiving Bluetooth Speaker  Electronics   300.68  \n",
            "1  ComfortLiving Bluetooth Speaker  Electronics   300.68  \n",
            "2  ComfortLiving Bluetooth Speaker  Electronics   300.68  \n",
            "3  ComfortLiving Bluetooth Speaker  Electronics   300.68  \n",
            "4  ComfortLiving Bluetooth Speaker  Electronics   300.68  \n"
          ]
        }
      ]
    },
    {
      "cell_type": "markdown",
      "source": [
        "###**Step 2: Creating Features**\n"
      ],
      "metadata": {
        "id": "_TYv755i6WtD"
      }
    },
    {
      "cell_type": "code",
      "source": [
        "# Aggregate customer-level transaction data\n",
        "customer_features = merged.groupby('CustomerID').agg({\n",
        "    'TotalValue': ['sum', 'mean'],  # Total and average spending\n",
        "    'TransactionID': 'count',      # Purchase frequency\n",
        "    'Category': lambda x: x.value_counts().index[0],  # Top category\n",
        "    'Region': 'first',             # Region\n",
        "    'SignupDate': 'first'          # Signup date\n",
        "}).reset_index()\n",
        "\n",
        "# Rename columns\n",
        "customer_features.columns = ['CustomerID', 'TotalSpending', 'AvgTransactionValue',\n",
        "                             'TransactionCount', 'TopCategory', 'Region', 'SignupDate']\n",
        "\n",
        "# Encode categorical features\n",
        "from sklearn.preprocessing import LabelEncoder\n",
        "encoder = LabelEncoder()\n",
        "customer_features['TopCategory'] = encoder.fit_transform(customer_features['TopCategory'])\n",
        "customer_features['Region'] = encoder.fit_transform(customer_features['Region'])\n",
        "customer_features['SignupDate'] = customer_features['SignupDate'].apply(lambda x: x.toordinal())\n",
        "\n",
        "print(customer_features.head())\n"
      ],
      "metadata": {
        "colab": {
          "base_uri": "https://localhost:8080/"
        },
        "id": "tv_D7a7r6pD8",
        "outputId": "a0e20827-96b0-4800-d15e-a1c8bfd54566"
      },
      "execution_count": 3,
      "outputs": [
        {
          "output_type": "stream",
          "name": "stdout",
          "text": [
            "  CustomerID  TotalSpending  AvgTransactionValue  TransactionCount  \\\n",
            "0      C0001        3354.52              670.904                 5   \n",
            "1      C0002        1862.74              465.685                 4   \n",
            "2      C0003        2725.38              681.345                 4   \n",
            "3      C0004        5354.88              669.360                 8   \n",
            "4      C0005        2034.24              678.080                 3   \n",
            "\n",
            "   TopCategory  Region  SignupDate  \n",
            "0            2       3      738346  \n",
            "1            3       0      738199  \n",
            "2            3       3      738952  \n",
            "3            0       3      738437  \n",
            "4            2       0      738382  \n"
          ]
        }
      ]
    },
    {
      "cell_type": "markdown",
      "source": [
        "###**Step 3: Building Cosine Similarity Based Lookalike Model**\n"
      ],
      "metadata": {
        "id": "Ek-bTNqt66Ol"
      }
    },
    {
      "cell_type": "code",
      "source": [
        "from sklearn.metrics.pairwise import cosine_similarity\n",
        "\n",
        "# Drop the 'CustomerID' column to focus on numerical features\n",
        "feature_matrix = customer_features.drop('CustomerID', axis=1)\n",
        "\n",
        "# Calculate pairwise cosine similarity\n",
        "similarity_matrix = cosine_similarity(feature_matrix)\n",
        "\n",
        "# Create a DataFrame to store similarity scores\n",
        "similarity_df = pd.DataFrame(similarity_matrix, index=customer_features['CustomerID'],\n",
        "                             columns=customer_features['CustomerID'])\n",
        "\n",
        "# Function to find top 3 similar customers\n",
        "def find_top_3_similar(customers_df, customer_id, similarity_df):\n",
        "    # Sort the similarity scores for the given customer (excluding self-comparison)\n",
        "    similar_customers = similarity_df[customer_id].sort_values(ascending=False).drop(customer_id).head(3)\n",
        "    return [(cust_id, score) for cust_id, score in similar_customers.items()]\n",
        "\n",
        "# Generate recommendations for the first 20 customers (C0001-C0020)\n",
        "lookalikes = {}\n",
        "for customer_id in customers['CustomerID'][:20]:\n",
        "    lookalikes[customer_id] = find_top_3_similar(customers, customer_id, similarity_df)\n",
        "\n",
        "# Convert to Lookalike.csv format\n",
        "lookalike_csv = pd.DataFrame.from_dict(lookalikes, orient='index', columns=['Cust1_Score', 'Cust2_Score', 'Cust3_Score'])\n",
        "lookalike_csv.to_csv('Lookalike.csv')\n",
        "\n",
        "print(\"Lookalike Recommendations:\")\n",
        "print(lookalike_csv.head())\n"
      ],
      "metadata": {
        "colab": {
          "base_uri": "https://localhost:8080/"
        },
        "id": "WAJr6ERh7Lj2",
        "outputId": "4796ea2b-1b5c-4d11-adf7-1c59cf337568"
      },
      "execution_count": 4,
      "outputs": [
        {
          "output_type": "stream",
          "name": "stdout",
          "text": [
            "Lookalike Recommendations:\n",
            "                       Cust1_Score                  Cust2_Score  \\\n",
            "C0001  (C0137, 0.9999999994072495)  (C0152, 0.9999999990396297)   \n",
            "C0002  (C0029, 0.9999999942096599)  (C0157, 0.9999999923028083)   \n",
            "C0003  (C0178, 0.9999999997380015)  (C0086, 0.9999999836216747)   \n",
            "C0004  (C0021, 0.9999999962197693)  (C0155, 0.9999999906242747)   \n",
            "C0005  (C0073, 0.9999999992913566)  (C0159, 0.9999999985125421)   \n",
            "\n",
            "                       Cust3_Score  \n",
            "C0001  (C0181, 0.9999999881388147)  \n",
            "C0002  (C0199, 0.9999999869357591)  \n",
            "C0003  (C0035, 0.9999999813368393)  \n",
            "C0004  (C0093, 0.9999999900798923)  \n",
            "C0005  (C0112, 0.9999999943170265)  \n"
          ]
        }
      ]
    }
  ]
}